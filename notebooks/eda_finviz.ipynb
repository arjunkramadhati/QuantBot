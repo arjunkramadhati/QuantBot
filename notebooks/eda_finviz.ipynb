{
 "cells": [
  {
   "cell_type": "markdown",
   "metadata": {},
   "source": [
    "# Finviz Feature EDA\n",
    "This notebook will load the cleaned Finviz feature snapshots and explore coverage, distributions, and simple correlations."
   ]
  }
 ],
 "metadata": {
  "kernelspec": {
   "display_name": "Python 3 (ipykernel)",
   "language": "python",
   "name": "python3"
  },
  "language_info": {
   "name": "python",
   "version": "3.11"
  }
 },
 "nbformat": 4,
 "nbformat_minor": 5
}
